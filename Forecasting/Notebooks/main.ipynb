{
 "cells": [
  {
   "metadata": {
    "ExecuteTime": {
     "end_time": "2025-03-12T15:03:46.186570Z",
     "start_time": "2025-03-12T15:03:46.184303Z"
    }
   },
   "cell_type": "code",
   "source": "from pathlib import Path",
   "id": "85a6dd078ac68654",
   "outputs": [],
   "execution_count": 92
  },
  {
   "cell_type": "code",
   "id": "initial_id",
   "metadata": {
    "collapsed": true,
    "ExecuteTime": {
     "end_time": "2025-03-12T15:03:46.206719Z",
     "start_time": "2025-03-12T15:03:46.193869Z"
    }
   },
   "source": [
    "import torch\n",
    "from torch import nn\n",
    "from torch.nn import functional as F\n",
    "\n",
    "import lightning.pytorch as pl"
   ],
   "outputs": [],
   "execution_count": 93
  },
  {
   "metadata": {
    "ExecuteTime": {
     "end_time": "2025-03-12T15:03:46.237183Z",
     "start_time": "2025-03-12T15:03:46.235220Z"
    }
   },
   "cell_type": "code",
   "source": "from Normalization.data.DataModule import DataModule",
   "id": "b14def8c8bad0d91",
   "outputs": [],
   "execution_count": 94
  },
  {
   "metadata": {},
   "cell_type": "markdown",
   "source": [
    "# Configuring the training and evaluation data\n",
    "The datasets are managed using a DataModule from pytorch lightning. This module includes the training, validation, and test dataset."
   ],
   "id": "907b4146ef24ca87"
  },
  {
   "metadata": {
    "ExecuteTime": {
     "end_time": "2025-03-12T15:03:46.450683Z",
     "start_time": "2025-03-12T15:03:46.280249Z"
    }
   },
   "cell_type": "code",
   "source": [
    "data_mod = DataModule(\n",
    "    root_dir=Path('/path/to/xLSTF/Datasets'), # the (absolute) path to the directory containing the data csv files\n",
    "    filename='weather.csv', # filename of the datasets to use in the training run\n",
    "    batch_size=128,\n",
    "    size=(336, 0, 720) # (input sequence length, label length, output sequence_length)\n",
    ")"
   ],
   "id": "7dd521998a5b0b9e",
   "outputs": [],
   "execution_count": 95
  },
  {
   "metadata": {},
   "cell_type": "markdown",
   "source": "# Configuring the forecasting model and normalization method",
   "id": "d6a6f9c4c126b04c"
  },
  {
   "metadata": {
    "ExecuteTime": {
     "end_time": "2025-03-12T15:03:46.458056Z",
     "start_time": "2025-03-12T15:03:46.456110Z"
    }
   },
   "cell_type": "code",
   "source": [
    "from Normalization.model_wrapper import ModelWrapper\n",
    "\n",
    "# These packages contain the models that can be trained (see the __init__.py files)\n",
    "from Normalization.models import (linear, misc, xLSTM, FourierAnalysisNetwork, PreVsPostUp)"
   ],
   "id": "f989da90246c48c5",
   "outputs": [],
   "execution_count": 96
  },
  {
   "metadata": {
    "ExecuteTime": {
     "end_time": "2025-03-12T15:03:46.527376Z",
     "start_time": "2025-03-12T15:03:46.504235Z"
    }
   },
   "cell_type": "code",
   "source": [
    "# Note, most model only require the input_sequence_length, output_sequence_length, and num_features to be set, however, many have additional hyperparameters, these can be passed here as well.\n",
    "\n",
    "# best performing xLSTF-based model\n",
    "model = xLSTM.xLSTF(\n",
    "    input_sequence_length=336, # this has to be set to the same value as in data module\n",
    "    output_sequence_length=720, # this has to be set to the same value as in data module\n",
    "    num_features=21, # number of variates of the time series (if unsure, see the dictionaries in Normalization/cli.py)\n",
    "    use_RevIN=True\n",
    ")\n",
    "\n",
    "# best performing FAN-based model\n",
    "#model = FourierAnalysisNetwork.RFAN(\n",
    "#    input_sequence_length=336,\n",
    "#    output_sequence_length=720,\n",
    "#    num_features=21,\n",
    "#)\n",
    "\n",
    "# best performing linear-based model\n",
    "#model = linear.DLinear(\n",
    "#    input_sequence_length=336,\n",
    "#    output_sequence_length=720,\n",
    "#    num_features=21,\n",
    "#)"
   ],
   "id": "52e035565cd3060f",
   "outputs": [
    {
     "name": "stderr",
     "output_type": "stream",
     "text": [
      "/home/dev/PycharmProjects/xLSTF/Normalization/.venv/lib/python3.12/site-packages/xlstm/blocks/slstm/cell.py:543: FutureWarning: `torch.cuda.amp.custom_fwd(args...)` is deprecated. Please use `torch.amp.custom_fwd(args..., device_type='cuda')` instead.\n",
      "  @conditional_decorator(\n",
      "/home/dev/PycharmProjects/xLSTF/Normalization/.venv/lib/python3.12/site-packages/xlstm/blocks/slstm/cell.py:568: FutureWarning: `torch.cuda.amp.custom_bwd(args...)` is deprecated. Please use `torch.amp.custom_bwd(args..., device_type='cuda')` instead.\n",
      "  @conditional_decorator(\n"
     ]
    }
   ],
   "execution_count": 97
  },
  {
   "metadata": {
    "ExecuteTime": {
     "end_time": "2025-03-12T15:03:46.555943Z",
     "start_time": "2025-03-12T15:03:46.553778Z"
    }
   },
   "cell_type": "code",
   "source": [
    "# Most of the training boilerplate is done by the pytorch lightning library, thus, the forecasting model must be wrapped into a pytorch lightning module\n",
    "model = ModelWrapper(\n",
    "    model,\n",
    "    data_mod.train_dataloader(), # The train dataloader has to be passed, as some normalization (SAN, and SIN) schemes require an additional pre-training.\n",
    "    learning_rate=0.0003,\n",
    "    loss_fn='MSE',\n",
    "    features='M'\n",
    ")"
   ],
   "id": "6ea8fa6a059e1e2e",
   "outputs": [],
   "execution_count": 98
  },
  {
   "metadata": {},
   "cell_type": "markdown",
   "source": "# Perform a training run and evaluate the final model",
   "id": "15059ed9b072cbe8"
  },
  {
   "metadata": {
    "ExecuteTime": {
     "end_time": "2025-03-12T15:03:46.599068Z",
     "start_time": "2025-03-12T15:03:46.596711Z"
    }
   },
   "cell_type": "code",
   "source": [
    "early_stopping_cb = pl.callbacks.EarlyStopping(\n",
    "    monitor='val/MAE', # or 'val/MSE'\n",
    "    patience=5,\n",
    "    mode='min',\n",
    "    min_delta=0.01\n",
    ")"
   ],
   "id": "e49bc66206f833b8",
   "outputs": [],
   "execution_count": 99
  },
  {
   "metadata": {
    "ExecuteTime": {
     "end_time": "2025-03-12T15:03:46.644416Z",
     "start_time": "2025-03-12T15:03:46.642249Z"
    }
   },
   "cell_type": "code",
   "source": [
    "import Normalization.callbacks as callbacks\n",
    "loss_cb = callbacks.LossCallback()\n",
    "count_parameters_cb = callbacks.ParameterCounterCallback()"
   ],
   "id": "b72ac6a668472cb1",
   "outputs": [],
   "execution_count": 100
  },
  {
   "metadata": {
    "ExecuteTime": {
     "end_time": "2025-03-12T15:03:46.711186Z",
     "start_time": "2025-03-12T15:03:46.695275Z"
    }
   },
   "cell_type": "code",
   "source": [
    "trainer = pl.Trainer(\n",
    "    max_epochs=100,\n",
    "    num_sanity_val_steps=0, # the sanity check fails when using models requiring pre-training\n",
    "    callbacks=[\n",
    "        early_stopping_cb, # Aborts the training if the validation error stop the decrease\n",
    "        loss_cb, # Keeps track of the training loss (only required for logging)\n",
    "        count_parameters_cb # Counts trainable parameters and displays the results in a table before training\n",
    "    ]\n",
    ")"
   ],
   "id": "ff978fbb7941d67",
   "outputs": [
    {
     "name": "stderr",
     "output_type": "stream",
     "text": [
      "GPU available: True (cuda), used: True\n",
      "TPU available: False, using: 0 TPU cores\n",
      "HPU available: False, using: 0 HPUs\n"
     ]
    }
   ],
   "execution_count": 101
  },
  {
   "metadata": {
    "ExecuteTime": {
     "end_time": "2025-03-12T15:04:26.825702Z",
     "start_time": "2025-03-12T15:03:46.740529Z"
    }
   },
   "cell_type": "code",
   "source": "trainer.fit(model, data_mod) # this function call starts the training process",
   "id": "ad7a4255c8146441",
   "outputs": [
    {
     "name": "stderr",
     "output_type": "stream",
     "text": [
      "LOCAL_RANK: 0 - CUDA_VISIBLE_DEVICES: [0]\n",
      "\n",
      "  | Name  | Type  | Params | Mode \n",
      "----------------------------------------\n",
      "0 | model | xLSTF | 1.7 M  | train\n",
      "----------------------------------------\n",
      "1.7 M     Trainable params\n",
      "0         Non-trainable params\n",
      "1.7 M     Total params\n",
      "6.659     Total estimated model params size (MB)\n",
      "42        Modules in train mode\n",
      "0         Modules in eval mode\n"
     ]
    },
    {
     "name": "stdout",
     "output_type": "stream",
     "text": [
      "+----------------------------------------------------+------------+\n",
      "| Modules                                            | Parameters |\n",
      "+----------------------------------------------------+------------+\n",
      "| norm.affine_weight                                 | 21         |\n",
      "| norm.affine_bias                                   | 21         |\n",
      "| xlstm.blocks.0.xlstm_norm.weight                   | 336        |\n",
      "| xlstm.blocks.0.xlstm.learnable_skip                | 704        |\n",
      "| xlstm.blocks.0.xlstm.proj_up.weight                | 473088     |\n",
      "| xlstm.blocks.0.xlstm.q_proj.weight                 | 2816       |\n",
      "| xlstm.blocks.0.xlstm.k_proj.weight                 | 2816       |\n",
      "| xlstm.blocks.0.xlstm.v_proj.weight                 | 2816       |\n",
      "| xlstm.blocks.0.xlstm.conv1d.conv.weight            | 2816       |\n",
      "| xlstm.blocks.0.xlstm.conv1d.conv.bias              | 704        |\n",
      "| xlstm.blocks.0.xlstm.mlstm_cell.igate.weight       | 8448       |\n",
      "| xlstm.blocks.0.xlstm.mlstm_cell.igate.bias         | 4          |\n",
      "| xlstm.blocks.0.xlstm.mlstm_cell.fgate.weight       | 8448       |\n",
      "| xlstm.blocks.0.xlstm.mlstm_cell.fgate.bias         | 4          |\n",
      "| xlstm.blocks.0.xlstm.mlstm_cell.outnorm.weight     | 704        |\n",
      "| xlstm.blocks.0.xlstm.proj_down.weight              | 236544     |\n",
      "| xlstm.blocks.1.xlstm_norm.weight                   | 336        |\n",
      "| xlstm.blocks.1.xlstm.conv1d.conv.weight            | 1344       |\n",
      "| xlstm.blocks.1.xlstm.conv1d.conv.bias              | 336        |\n",
      "| xlstm.blocks.1.xlstm.fgate.weight                  | 28224      |\n",
      "| xlstm.blocks.1.xlstm.igate.weight                  | 28224      |\n",
      "| xlstm.blocks.1.xlstm.zgate.weight                  | 28224      |\n",
      "| xlstm.blocks.1.xlstm.ogate.weight                  | 28224      |\n",
      "| xlstm.blocks.1.xlstm.slstm_cell._recurrent_kernel_ | 112896     |\n",
      "| xlstm.blocks.1.xlstm.slstm_cell._bias_             | 1344       |\n",
      "| xlstm.blocks.1.xlstm.group_norm.weight             | 336        |\n",
      "| xlstm.blocks.1.ffn_norm.weight                     | 336        |\n",
      "| xlstm.blocks.1.ffn.proj_up.weight                  | 301056     |\n",
      "| xlstm.blocks.1.ffn.proj_down.weight                | 150528     |\n",
      "| xlstm.post_blocks_norm.weight                      | 336        |\n",
      "| fc.weight                                          | 241920     |\n",
      "| fc.bias                                            | 720        |\n",
      "+----------------------------------------------------+------------+\n",
      "Total Trainable Params: 1664674 (6.35 MB)\n"
     ]
    },
    {
     "data": {
      "text/plain": [
       "Training: |          | 0/? [00:00<?, ?it/s]"
      ],
      "application/vnd.jupyter.widget-view+json": {
       "version_major": 2,
       "version_minor": 0,
       "model_id": "58054406bda2458b901901903f1160e1"
      }
     },
     "metadata": {},
     "output_type": "display_data"
    },
    {
     "data": {
      "text/plain": [
       "Validation: |          | 0/? [00:00<?, ?it/s]"
      ],
      "application/vnd.jupyter.widget-view+json": {
       "version_major": 2,
       "version_minor": 0,
       "model_id": "f65ebc9c803145e48b2994a833f03472"
      }
     },
     "metadata": {},
     "output_type": "display_data"
    },
    {
     "data": {
      "text/plain": [
       "Validation: |          | 0/? [00:00<?, ?it/s]"
      ],
      "application/vnd.jupyter.widget-view+json": {
       "version_major": 2,
       "version_minor": 0,
       "model_id": "c52472b245e14beb8672a25fdc25ca0b"
      }
     },
     "metadata": {},
     "output_type": "display_data"
    },
    {
     "data": {
      "text/plain": [
       "Validation: |          | 0/? [00:00<?, ?it/s]"
      ],
      "application/vnd.jupyter.widget-view+json": {
       "version_major": 2,
       "version_minor": 0,
       "model_id": "553a8326ea794c7a97365a447536bb7f"
      }
     },
     "metadata": {},
     "output_type": "display_data"
    },
    {
     "data": {
      "text/plain": [
       "Validation: |          | 0/? [00:00<?, ?it/s]"
      ],
      "application/vnd.jupyter.widget-view+json": {
       "version_major": 2,
       "version_minor": 0,
       "model_id": "6f9bebe1ef2e41b49b04268e9172c668"
      }
     },
     "metadata": {},
     "output_type": "display_data"
    },
    {
     "data": {
      "text/plain": [
       "Validation: |          | 0/? [00:00<?, ?it/s]"
      ],
      "application/vnd.jupyter.widget-view+json": {
       "version_major": 2,
       "version_minor": 0,
       "model_id": "cf366abe03534ed5a10a4cabc8a71e97"
      }
     },
     "metadata": {},
     "output_type": "display_data"
    },
    {
     "data": {
      "text/plain": [
       "Validation: |          | 0/? [00:00<?, ?it/s]"
      ],
      "application/vnd.jupyter.widget-view+json": {
       "version_major": 2,
       "version_minor": 0,
       "model_id": "ee2decf309524cc99cf2f815a3dd1d09"
      }
     },
     "metadata": {},
     "output_type": "display_data"
    }
   ],
   "execution_count": 102
  },
  {
   "metadata": {
    "ExecuteTime": {
     "end_time": "2025-03-12T15:04:28.085579Z",
     "start_time": "2025-03-12T15:04:26.832263Z"
    }
   },
   "cell_type": "code",
   "source": "trainer.test(model, data_mod)",
   "id": "19301c17c1965bab",
   "outputs": [
    {
     "name": "stderr",
     "output_type": "stream",
     "text": [
      "LOCAL_RANK: 0 - CUDA_VISIBLE_DEVICES: [0]\n"
     ]
    },
    {
     "data": {
      "text/plain": [
       "Testing: |          | 0/? [00:00<?, ?it/s]"
      ],
      "application/vnd.jupyter.widget-view+json": {
       "version_major": 2,
       "version_minor": 0,
       "model_id": "13de08ce96524d949758beead6083194"
      }
     },
     "metadata": {},
     "output_type": "display_data"
    },
    {
     "data": {
      "text/plain": [
       "┏━━━━━━━━━━━━━━━━━━━━━━━━━━━┳━━━━━━━━━━━━━━━━━━━━━━━━━━━┓\n",
       "┃\u001B[1m \u001B[0m\u001B[1m       Test metric       \u001B[0m\u001B[1m \u001B[0m┃\u001B[1m \u001B[0m\u001B[1m      DataLoader 0       \u001B[0m\u001B[1m \u001B[0m┃\n",
       "┡━━━━━━━━━━━━━━━━━━━━━━━━━━━╇━━━━━━━━━━━━━━━━━━━━━━━━━━━┩\n",
       "│\u001B[36m \u001B[0m\u001B[36m         tst/MAE         \u001B[0m\u001B[36m \u001B[0m│\u001B[35m \u001B[0m\u001B[35m   0.3901064395904541    \u001B[0m\u001B[35m \u001B[0m│\n",
       "│\u001B[36m \u001B[0m\u001B[36m         tst/MSE         \u001B[0m\u001B[36m \u001B[0m│\u001B[35m \u001B[0m\u001B[35m   0.41996508836746216   \u001B[0m\u001B[35m \u001B[0m│\n",
       "│\u001B[36m \u001B[0m\u001B[36m        tst/RMSE         \u001B[0m\u001B[36m \u001B[0m│\u001B[35m \u001B[0m\u001B[35m   0.6316372156143188    \u001B[0m\u001B[35m \u001B[0m│\n",
       "└───────────────────────────┴───────────────────────────┘\n"
      ],
      "text/html": [
       "<pre style=\"white-space:pre;overflow-x:auto;line-height:normal;font-family:Menlo,'DejaVu Sans Mono',consolas,'Courier New',monospace\">┏━━━━━━━━━━━━━━━━━━━━━━━━━━━┳━━━━━━━━━━━━━━━━━━━━━━━━━━━┓\n",
       "┃<span style=\"font-weight: bold\">        Test metric        </span>┃<span style=\"font-weight: bold\">       DataLoader 0        </span>┃\n",
       "┡━━━━━━━━━━━━━━━━━━━━━━━━━━━╇━━━━━━━━━━━━━━━━━━━━━━━━━━━┩\n",
       "│<span style=\"color: #008080; text-decoration-color: #008080\">          tst/MAE          </span>│<span style=\"color: #800080; text-decoration-color: #800080\">    0.3901064395904541     </span>│\n",
       "│<span style=\"color: #008080; text-decoration-color: #008080\">          tst/MSE          </span>│<span style=\"color: #800080; text-decoration-color: #800080\">    0.41996508836746216    </span>│\n",
       "│<span style=\"color: #008080; text-decoration-color: #008080\">         tst/RMSE          </span>│<span style=\"color: #800080; text-decoration-color: #800080\">    0.6316372156143188     </span>│\n",
       "└───────────────────────────┴───────────────────────────┘\n",
       "</pre>\n"
      ]
     },
     "metadata": {},
     "output_type": "display_data"
    },
    {
     "data": {
      "text/plain": [
       "[{'tst/MAE': 0.3901064395904541,\n",
       "  'tst/MSE': 0.41996508836746216,\n",
       "  'tst/RMSE': 0.6316372156143188}]"
      ]
     },
     "execution_count": 103,
     "metadata": {},
     "output_type": "execute_result"
    }
   ],
   "execution_count": 103
  }
 ],
 "metadata": {
  "kernelspec": {
   "display_name": "Python 3",
   "language": "python",
   "name": "python3"
  },
  "language_info": {
   "codemirror_mode": {
    "name": "ipython",
    "version": 2
   },
   "file_extension": ".py",
   "mimetype": "text/x-python",
   "name": "python",
   "nbconvert_exporter": "python",
   "pygments_lexer": "ipython2",
   "version": "2.7.6"
  }
 },
 "nbformat": 4,
 "nbformat_minor": 5
}
