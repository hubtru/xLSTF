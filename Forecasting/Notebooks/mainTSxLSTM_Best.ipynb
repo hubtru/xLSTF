{
 "cells": [
  {
   "cell_type": "code",
   "execution_count": 12,
   "id": "85a6dd078ac68654",
   "metadata": {
    "ExecuteTime": {
     "end_time": "2025-03-12T15:03:46.186570Z",
     "start_time": "2025-03-12T15:03:46.184303Z"
    }
   },
   "outputs": [],
   "source": [
    "from pathlib import Path"
   ]
  },
  {
   "cell_type": "code",
   "execution_count": null,
   "id": "initial_id",
   "metadata": {
    "ExecuteTime": {
     "end_time": "2025-03-12T15:03:46.206719Z",
     "start_time": "2025-03-12T15:03:46.193869Z"
    },
    "collapsed": true
   },
   "outputs": [],
   "source": [
    "import torch\n",
    "from torch import nn\n",
    "from torch.nn import functional as F\n",
    "\n",
    "import lightning.pytorch as pl"
   ]
  },
  {
   "cell_type": "code",
   "execution_count": 14,
   "id": "b14def8c8bad0d91",
   "metadata": {
    "ExecuteTime": {
     "end_time": "2025-03-12T15:03:46.237183Z",
     "start_time": "2025-03-12T15:03:46.235220Z"
    }
   },
   "outputs": [],
   "source": [
    "from Normalization.data.DataModule import DataModule"
   ]
  },
  {
   "cell_type": "markdown",
   "id": "907b4146ef24ca87",
   "metadata": {},
   "source": [
    "# Configuring the training and evaluation data\n",
    "The datasets are managed using a DataModule from pytorch lightning. This module includes the training, validation, and test dataset."
   ]
  },
  {
   "cell_type": "code",
   "execution_count": null,
   "id": "7dd521998a5b0b9e",
   "metadata": {
    "ExecuteTime": {
     "end_time": "2025-03-12T15:03:46.450683Z",
     "start_time": "2025-03-12T15:03:46.280249Z"
    }
   },
   "outputs": [],
   "source": [
    "data_mod = DataModule(\n",
    "    root_dir=Path('/path/to/xLSTF/Datasets'), # the (absolute) path to the directory containing the data csv files\n",
    "    filename='weather.csv', # filename of the datasets to use in the training run\n",
    "    batch_size=128,\n",
    "    size=(336, 0, 720) # (input sequence length, label length, output sequence_length)\n",
    ")"
   ]
  },
  {
   "cell_type": "markdown",
   "id": "d6a6f9c4c126b04c",
   "metadata": {},
   "source": [
    "# Configuring the forecasting model and normalization method"
   ]
  },
  {
   "cell_type": "code",
   "execution_count": 16,
   "id": "f989da90246c48c5",
   "metadata": {
    "ExecuteTime": {
     "end_time": "2025-03-12T15:03:46.458056Z",
     "start_time": "2025-03-12T15:03:46.456110Z"
    }
   },
   "outputs": [],
   "source": [
    "from Normalization.model_wrapper import ModelWrapper\n",
    "\n",
    "# These packages contain the models that can be trained (see the __init__.py files)\n",
    "from Normalization.models import (linear, misc, xLSTM, FourierAnalysisNetwork, PreVsPostUp)"
   ]
  },
  {
   "cell_type": "code",
   "execution_count": 17,
   "id": "52e035565cd3060f",
   "metadata": {
    "ExecuteTime": {
     "end_time": "2025-03-12T15:03:46.527376Z",
     "start_time": "2025-03-12T15:03:46.504235Z"
    }
   },
   "outputs": [],
   "source": [
    "# Note, most model only require the input_sequence_length, output_sequence_length, and num_features to be set, however, many have additional hyperparameters, these can be passed here as well.\n",
    "\n",
    "# TSxLSTM with one MBlock\n",
    "# model = xLSTM.TSxLSTM_MBl(\n",
    "    # input_sequence_length=336, # this has to be set to the same value as in data module\n",
    "    # output_sequence_length=720, # this has to be set to the same value as in data module\n",
    "    # num_features=21, # number of variates of the time series (if unsure, see the dictionaries in Normalization/cli.py)\n",
    "    # use_RevIN=True\n",
    "# )\n",
    "\n",
    "# best performing TSxLSTM variant with one MBlock and modified xLSTM package\n",
    "model = xLSTM.TSxLSTM_MBl_Variant(\n",
    "    input_sequence_length=336, # this has to be set to the same value as in data module\n",
    "    output_sequence_length=720, # this has to be set to the same value as in data module\n",
    "    num_features=21, # number of variates of the time series (if unsure, see the dictionaries in Normalization/cli.py)\n",
    "    use_RevIN=True\n",
    ")"
   ]
  },
  {
   "cell_type": "code",
   "execution_count": 18,
   "id": "6ea8fa6a059e1e2e",
   "metadata": {
    "ExecuteTime": {
     "end_time": "2025-03-12T15:03:46.555943Z",
     "start_time": "2025-03-12T15:03:46.553778Z"
    }
   },
   "outputs": [],
   "source": [
    "# Most of the training boilerplate is done by the pytorch lightning library, thus, the forecasting model must be wrapped into a pytorch lightning module\n",
    "model = ModelWrapper(\n",
    "    model,\n",
    "    data_mod.train_dataloader(), # The train dataloader has to be passed, as some normalization (SAN, and SIN) schemes require an additional pre-training.\n",
    "    learning_rate=0.0003,\n",
    "    loss_fn='MSE',\n",
    "    features='M'\n",
    ")"
   ]
  },
  {
   "cell_type": "markdown",
   "id": "15059ed9b072cbe8",
   "metadata": {},
   "source": [
    "# Perform a training run and evaluate the final model"
   ]
  },
  {
   "cell_type": "code",
   "execution_count": 19,
   "id": "e49bc66206f833b8",
   "metadata": {
    "ExecuteTime": {
     "end_time": "2025-03-12T15:03:46.599068Z",
     "start_time": "2025-03-12T15:03:46.596711Z"
    }
   },
   "outputs": [],
   "source": [
    "early_stopping_cb = pl.callbacks.EarlyStopping(\n",
    "    monitor='val/MAE', # or 'val/MSE'\n",
    "    patience=5,\n",
    "    mode='min',\n",
    "    min_delta=0.01\n",
    ")"
   ]
  },
  {
   "cell_type": "code",
   "execution_count": 20,
   "id": "b72ac6a668472cb1",
   "metadata": {
    "ExecuteTime": {
     "end_time": "2025-03-12T15:03:46.644416Z",
     "start_time": "2025-03-12T15:03:46.642249Z"
    }
   },
   "outputs": [],
   "source": [
    "import Normalization.callbacks as callbacks\n",
    "loss_cb = callbacks.LossCallback()\n",
    "count_parameters_cb = callbacks.ParameterCounterCallback()"
   ]
  },
  {
   "cell_type": "code",
   "execution_count": null,
   "id": "ff978fbb7941d67",
   "metadata": {
    "ExecuteTime": {
     "end_time": "2025-03-12T15:03:46.711186Z",
     "start_time": "2025-03-12T15:03:46.695275Z"
    }
   },
   "outputs": [
    {
     "name": "stderr",
     "output_type": "stream",
     "text": [
      "Using default `ModelCheckpoint`. Consider installing `litmodels` package to enable `LitModelCheckpoint` for automatic upload to the Lightning model registry.\n",
      "GPU available: True (cuda), used: True\n",
      "TPU available: False, using: 0 TPU cores\n",
      "HPU available: False, using: 0 HPUs\n"
     ]
    }
   ],
   "source": [
    "trainer = pl.Trainer(\n",
    "    max_epochs=100,\n",
    "    num_sanity_val_steps=0, # the sanity check fails when using models requiring pre-training\n",
    "    callbacks=[\n",
    "        early_stopping_cb, # Aborts the training if the validation error stop the decrease\n",
    "        loss_cb, # Keeps track of the training loss (only required for logging)\n",
    "        count_parameters_cb # Counts trainable parameters and displays the results in a table before training\n",
    "    ]\n",
    ")"
   ]
  },
  {
   "cell_type": "code",
   "execution_count": 22,
   "id": "ad7a4255c8146441",
   "metadata": {
    "ExecuteTime": {
     "end_time": "2025-03-12T15:04:26.825702Z",
     "start_time": "2025-03-12T15:03:46.740529Z"
    }
   },
   "outputs": [
    {
     "name": "stderr",
     "output_type": "stream",
     "text": [
      "LOCAL_RANK: 0 - CUDA_VISIBLE_DEVICES: [0]\n",
      "\n",
      "  | Name  | Type                | Params | Mode \n",
      "------------------------------------------------------\n",
      "0 | model | TSxLSTM_MBl_Variant | 1.4 M  | train\n",
      "------------------------------------------------------\n",
      "1.4 M     Trainable params\n",
      "0         Non-trainable params\n",
      "1.4 M     Total params\n",
      "5.731     Total estimated model params size (MB)\n",
      "33        Modules in train mode\n",
      "0         Modules in eval mode\n",
      "c:\\Users\\chris\\AppData\\Local\\Programs\\Python\\Python312\\Lib\\site-packages\\lightning\\pytorch\\trainer\\connectors\\data_connector.py:420: Consider setting `persistent_workers=True` in 'train_dataloader' to speed up the dataloader worker initialization.\n"
     ]
    },
    {
     "name": "stdout",
     "output_type": "stream",
     "text": [
      "+------------------------------------------------+------------+\n",
      "| Modules                                        | Parameters |\n",
      "+------------------------------------------------+------------+\n",
      "| norm.affine_weight                             | 21         |\n",
      "| norm.affine_bias                               | 21         |\n",
      "| Linear1.backbone.weights.weight                | 112896     |\n",
      "| Linear1.backbone.weights.bias                  | 336        |\n",
      "| Linear2.backbone.weights.weight                | 112896     |\n",
      "| Linear2.backbone.weights.bias                  | 336        |\n",
      "| linear_extractor.Linear_Seasonal.weight        | 112896     |\n",
      "| linear_extractor.Linear_Seasonal.bias          | 336        |\n",
      "| linear_extractor.Linear_Trend.weight           | 112896     |\n",
      "| linear_extractor.Linear_Trend.bias             | 336        |\n",
      "| xlstm.blocks.0.xlstm_norm.weight               | 336        |\n",
      "| xlstm.blocks.0.xlstm.learnable_skip            | 704        |\n",
      "| xlstm.blocks.0.xlstm.proj_up.weight            | 473088     |\n",
      "| xlstm.blocks.0.xlstm.q_proj.weight             | 2816       |\n",
      "| xlstm.blocks.0.xlstm.k_proj.weight             | 2816       |\n",
      "| xlstm.blocks.0.xlstm.v_proj.weight             | 2816       |\n",
      "| xlstm.blocks.0.xlstm.mlstm_cell.igate.weight   | 8448       |\n",
      "| xlstm.blocks.0.xlstm.mlstm_cell.igate.bias     | 4          |\n",
      "| xlstm.blocks.0.xlstm.mlstm_cell.fgate.weight   | 8448       |\n",
      "| xlstm.blocks.0.xlstm.mlstm_cell.fgate.bias     | 4          |\n",
      "| xlstm.blocks.0.xlstm.mlstm_cell.outnorm.weight | 704        |\n",
      "| xlstm.blocks.0.xlstm.proj_down.weight          | 236544     |\n",
      "| xlstm.post_blocks_norm.weight                  | 336        |\n",
      "| fc.weight                                      | 241920     |\n",
      "| fc.bias                                        | 720        |\n",
      "+------------------------------------------------+------------+\n",
      "Total Trainable Params: 1432674 (5.47 MB)\n"
     ]
    },
    {
     "name": "stderr",
     "output_type": "stream",
     "text": [
      "c:\\Users\\chris\\AppData\\Local\\Programs\\Python\\Python312\\Lib\\site-packages\\lightning\\pytorch\\trainer\\connectors\\data_connector.py:420: Consider setting `persistent_workers=True` in 'val_dataloader' to speed up the dataloader worker initialization.\n"
     ]
    },
    {
     "data": {
      "application/vnd.jupyter.widget-view+json": {
       "model_id": "8571f884786d4b0ca1ecefac9a5ef3c4",
       "version_major": 2,
       "version_minor": 0
      },
      "text/plain": [
       "Training: |          | 0/? [00:00<?, ?it/s]"
      ]
     },
     "metadata": {},
     "output_type": "display_data"
    },
    {
     "data": {
      "application/vnd.jupyter.widget-view+json": {
       "model_id": "47d5f628fe03438c9e7c313edde680b7",
       "version_major": 2,
       "version_minor": 0
      },
      "text/plain": [
       "Validation: |          | 0/? [00:00<?, ?it/s]"
      ]
     },
     "metadata": {},
     "output_type": "display_data"
    },
    {
     "data": {
      "application/vnd.jupyter.widget-view+json": {
       "model_id": "e08aa47ae43b42af864356b5f29c4a62",
       "version_major": 2,
       "version_minor": 0
      },
      "text/plain": [
       "Validation: |          | 0/? [00:00<?, ?it/s]"
      ]
     },
     "metadata": {},
     "output_type": "display_data"
    },
    {
     "data": {
      "application/vnd.jupyter.widget-view+json": {
       "model_id": "8051467c373749de8c14018352b9ea80",
       "version_major": 2,
       "version_minor": 0
      },
      "text/plain": [
       "Validation: |          | 0/? [00:00<?, ?it/s]"
      ]
     },
     "metadata": {},
     "output_type": "display_data"
    },
    {
     "data": {
      "application/vnd.jupyter.widget-view+json": {
       "model_id": "0763078bbcbb47c68d6431a46e6de29d",
       "version_major": 2,
       "version_minor": 0
      },
      "text/plain": [
       "Validation: |          | 0/? [00:00<?, ?it/s]"
      ]
     },
     "metadata": {},
     "output_type": "display_data"
    },
    {
     "data": {
      "application/vnd.jupyter.widget-view+json": {
       "model_id": "a381b1a6074c4ed697f7511e1e5c93cf",
       "version_major": 2,
       "version_minor": 0
      },
      "text/plain": [
       "Validation: |          | 0/? [00:00<?, ?it/s]"
      ]
     },
     "metadata": {},
     "output_type": "display_data"
    },
    {
     "data": {
      "application/vnd.jupyter.widget-view+json": {
       "model_id": "d3dd4f2cc0ee4db9a5a79fa28891c1e2",
       "version_major": 2,
       "version_minor": 0
      },
      "text/plain": [
       "Validation: |          | 0/? [00:00<?, ?it/s]"
      ]
     },
     "metadata": {},
     "output_type": "display_data"
    },
    {
     "data": {
      "application/vnd.jupyter.widget-view+json": {
       "model_id": "041ca31aaae54a39930ccbebf4d1d2ea",
       "version_major": 2,
       "version_minor": 0
      },
      "text/plain": [
       "Validation: |          | 0/? [00:00<?, ?it/s]"
      ]
     },
     "metadata": {},
     "output_type": "display_data"
    }
   ],
   "source": [
    "trainer.fit(model, data_mod) # this function call starts the training process"
   ]
  },
  {
   "cell_type": "code",
   "execution_count": 23,
   "id": "19301c17c1965bab",
   "metadata": {
    "ExecuteTime": {
     "end_time": "2025-03-12T15:04:28.085579Z",
     "start_time": "2025-03-12T15:04:26.832263Z"
    }
   },
   "outputs": [
    {
     "name": "stderr",
     "output_type": "stream",
     "text": [
      "LOCAL_RANK: 0 - CUDA_VISIBLE_DEVICES: [0]\n",
      "c:\\Users\\chris\\AppData\\Local\\Programs\\Python\\Python312\\Lib\\site-packages\\lightning\\pytorch\\trainer\\connectors\\data_connector.py:420: Consider setting `persistent_workers=True` in 'test_dataloader' to speed up the dataloader worker initialization.\n"
     ]
    },
    {
     "data": {
      "application/vnd.jupyter.widget-view+json": {
       "model_id": "8d35b1ceeae5401d87dabed122a45961",
       "version_major": 2,
       "version_minor": 0
      },
      "text/plain": [
       "Testing: |          | 0/? [00:00<?, ?it/s]"
      ]
     },
     "metadata": {},
     "output_type": "display_data"
    },
    {
     "data": {
      "text/html": [
       "<pre style=\"white-space:pre;overflow-x:auto;line-height:normal;font-family:Menlo,'DejaVu Sans Mono',consolas,'Courier New',monospace\">┏━━━━━━━━━━━━━━━━━━━━━━━━━━━┳━━━━━━━━━━━━━━━━━━━━━━━━━━━┓\n",
       "┃<span style=\"font-weight: bold\">        Test metric        </span>┃<span style=\"font-weight: bold\">       DataLoader 0        </span>┃\n",
       "┡━━━━━━━━━━━━━━━━━━━━━━━━━━━╇━━━━━━━━━━━━━━━━━━━━━━━━━━━┩\n",
       "│<span style=\"color: #008080; text-decoration-color: #008080\">          tst/MAE          </span>│<span style=\"color: #800080; text-decoration-color: #800080\">    0.34193047881126404    </span>│\n",
       "│<span style=\"color: #008080; text-decoration-color: #008080\">          tst/MSE          </span>│<span style=\"color: #800080; text-decoration-color: #800080\">    0.33299705386161804    </span>│\n",
       "│<span style=\"color: #008080; text-decoration-color: #008080\">         tst/RMSE          </span>│<span style=\"color: #800080; text-decoration-color: #800080\">    0.5594085454940796     </span>│\n",
       "└───────────────────────────┴───────────────────────────┘\n",
       "</pre>\n"
      ],
      "text/plain": [
       "┏━━━━━━━━━━━━━━━━━━━━━━━━━━━┳━━━━━━━━━━━━━━━━━━━━━━━━━━━┓\n",
       "┃\u001b[1m \u001b[0m\u001b[1m       Test metric       \u001b[0m\u001b[1m \u001b[0m┃\u001b[1m \u001b[0m\u001b[1m      DataLoader 0       \u001b[0m\u001b[1m \u001b[0m┃\n",
       "┡━━━━━━━━━━━━━━━━━━━━━━━━━━━╇━━━━━━━━━━━━━━━━━━━━━━━━━━━┩\n",
       "│\u001b[36m \u001b[0m\u001b[36m         tst/MAE         \u001b[0m\u001b[36m \u001b[0m│\u001b[35m \u001b[0m\u001b[35m   0.34193047881126404   \u001b[0m\u001b[35m \u001b[0m│\n",
       "│\u001b[36m \u001b[0m\u001b[36m         tst/MSE         \u001b[0m\u001b[36m \u001b[0m│\u001b[35m \u001b[0m\u001b[35m   0.33299705386161804   \u001b[0m\u001b[35m \u001b[0m│\n",
       "│\u001b[36m \u001b[0m\u001b[36m        tst/RMSE         \u001b[0m\u001b[36m \u001b[0m│\u001b[35m \u001b[0m\u001b[35m   0.5594085454940796    \u001b[0m\u001b[35m \u001b[0m│\n",
       "└───────────────────────────┴───────────────────────────┘\n"
      ]
     },
     "metadata": {},
     "output_type": "display_data"
    },
    {
     "data": {
      "text/plain": [
       "[{'tst/MAE': 0.34193047881126404,\n",
       "  'tst/MSE': 0.33299705386161804,\n",
       "  'tst/RMSE': 0.5594085454940796}]"
      ]
     },
     "execution_count": 23,
     "metadata": {},
     "output_type": "execute_result"
    }
   ],
   "source": [
    "trainer.test(model, data_mod)"
   ]
  }
 ],
 "metadata": {
  "kernelspec": {
   "display_name": "Python 3",
   "language": "python",
   "name": "python3"
  },
  "language_info": {
   "codemirror_mode": {
    "name": "ipython",
    "version": 3
   },
   "file_extension": ".py",
   "mimetype": "text/x-python",
   "name": "python",
   "nbconvert_exporter": "python",
   "pygments_lexer": "ipython3",
   "version": "3.12.3"
  }
 },
 "nbformat": 4,
 "nbformat_minor": 5
}
